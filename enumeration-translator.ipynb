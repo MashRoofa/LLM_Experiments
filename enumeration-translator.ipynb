{
 "cells": [
  {
   "metadata": {},
   "cell_type": "markdown",
   "source": "# ENUM Translator",
   "id": "8a77807f92f26ee"
  },
  {
   "metadata": {
    "ExecuteTime": {
     "end_time": "2025-03-15T17:41:26.139328Z",
     "start_time": "2025-03-15T17:41:26.100726Z"
    }
   },
   "cell_type": "code",
   "source": [
    "import os\n",
    "from dotenv import load_dotenv\n",
    "import ollama\n",
    "\n",
    "load_dotenv()\n",
    "ollama_client = ollama.Client(host=os.getenv(\"SERVER_URL\"))"
   ],
   "id": "fbc121e30a2defb3",
   "outputs": [],
   "execution_count": 114
  },
  {
   "metadata": {
    "ExecuteTime": {
     "end_time": "2025-03-15T17:41:26.176787Z",
     "start_time": "2025-03-15T17:41:26.146949Z"
    }
   },
   "cell_type": "code",
   "source": [
    "model_names = [model.model for model in ollama_client.list().models]\n",
    "print(model_names)\n"
   ],
   "id": "6cd4311ecb4a7544",
   "outputs": [
    {
     "name": "stdout",
     "output_type": "stream",
     "text": [
      "['llama3.1:8b', 'gemma3:12b', 'gemma3:4b', 'llama3.2:latest']\n"
     ]
    }
   ],
   "execution_count": 115
  },
  {
   "metadata": {
    "ExecuteTime": {
     "end_time": "2025-03-15T17:41:26.201092Z",
     "start_time": "2025-03-15T17:41:26.198613Z"
    }
   },
   "cell_type": "code",
   "source": "LLM_MODEL = model_names[0] #llama3.1:8b",
   "id": "f0c9de1fcf51892c",
   "outputs": [],
   "execution_count": 116
  },
  {
   "metadata": {
    "ExecuteTime": {
     "end_time": "2025-03-15T18:00:31.559868Z",
     "start_time": "2025-03-15T18:00:31.554574Z"
    }
   },
   "cell_type": "code",
   "source": [
    "def translation_agent(enum_names, toLang):\n",
    "    system_prompt = (\n",
    "    f\"\"\"You are an AI assistant specialized in translating ENUM names into human-readable messages.\n",
    "    Your task is to take an ENUM written in English and perform the following:\n",
    "\n",
    "    1. Convert the ENUM name into a clear, human-readable English sentence.\n",
    "    2. Translate the resulting English sentence into {toLang}.\n",
    "\n",
    "    ### Instructions:\n",
    "    - Maintain proper capitalization and spacing.\n",
    "    - The output must be a JSON object where:\n",
    "      - The ENUM name is the key.\n",
    "      - The value is an array containing two objects:\n",
    "        - One for the English sentence (`\"en\"` key).\n",
    "        - One for the {toLang} translation (`\"{toLang}\"` key).\n",
    "    - Ensure translations are natural and contextually accurate.\n",
    "    - Do not include explanations or formatting notes, only return the JSON.\n",
    "    - Do not include special characters newlines etc.\n",
    "\n",
    "    ### Example Input:\n",
    "    Enum: `UserAccountLocked`\n",
    "\n",
    "    ### Expected Output (Assume the language to translate to is greek):\n",
    "    {{\n",
    "      \"UserAccountLocked\": [\n",
    "        {{\"en\": \"The user account is locked.\"}},\n",
    "        {{\"el\": \"Ο λογαριασμός χρήστη είναι κλειδωμένος.\"}}\n",
    "      ]\n",
    "    }}\n",
    "\n",
    "    Now, process the given list of ENUMs accordingly.\n",
    "    \"\"\"\n",
    "    )\n",
    "\n",
    "    user_prompt = (\n",
    "        f\"Translate the following ENUMs from english to {toLang}.\\n\"\n",
    "        f\"ENUMS: {', '.join(enum_names)}\"\n",
    "    )\n",
    "\n",
    "    response = ollama_client.chat(\n",
    "        model=LLM_MODEL,\n",
    "        messages=[\n",
    "            {\"role\": \"system\", \"content\": system_prompt},\n",
    "            {\"role\": \"user\", \"content\": user_prompt}\n",
    "        ],\n",
    "        format=\"json\",\n",
    "    )\n",
    "\n",
    "    return json.loads(response['message']['content'])\n"
   ],
   "id": "9d7754daabff895b",
   "outputs": [],
   "execution_count": 142
  },
  {
   "metadata": {
    "ExecuteTime": {
     "end_time": "2025-03-15T18:03:49.939746Z",
     "start_time": "2025-03-15T18:03:19.699492Z"
    }
   },
   "cell_type": "code",
   "source": [
    "import json\n",
    "from IPython.display import display, JSON\n",
    "\n",
    "enums = [\"ThisIsAmazing\",\"ThisIsBad\"]\n",
    "response = translation_agent(enums, \"spanish\")\n",
    "display(JSON(response))"
   ],
   "id": "a2972c0bf129acd2",
   "outputs": [
    {
     "data": {
      "text/plain": [
       "<IPython.core.display.JSON object>"
      ],
      "application/json": {
       "ThisIsAmazing": [
        {
         "en": "This is amazing."
        },
        {
         "es": "Esto es increíble."
        }
       ],
       "ThisIsBad": [
        {
         "en": "This is bad."
        },
        {
         "es": "Esto es malo."
        }
       ]
      }
     },
     "metadata": {
      "application/json": {
       "expanded": false,
       "root": "root"
      }
     },
     "output_type": "display_data"
    }
   ],
   "execution_count": 148
  }
 ],
 "metadata": {
  "kernelspec": {
   "display_name": "Python 3",
   "language": "python",
   "name": "python3"
  },
  "language_info": {
   "codemirror_mode": {
    "name": "ipython",
    "version": 2
   },
   "file_extension": ".py",
   "mimetype": "text/x-python",
   "name": "python",
   "nbconvert_exporter": "python",
   "pygments_lexer": "ipython2",
   "version": "2.7.6"
  }
 },
 "nbformat": 4,
 "nbformat_minor": 5
}
